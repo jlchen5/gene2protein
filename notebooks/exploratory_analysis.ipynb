# 基因表达分布可视化
import seaborn as sns
processed_data = pd.read_hdf('../data/processed/normalized.h5')
sns.jointplot(x='Expression', y='Normalized', data=processed_data, kind='hex')
